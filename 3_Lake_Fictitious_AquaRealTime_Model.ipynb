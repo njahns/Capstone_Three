{
 "cells": [
  {
   "cell_type": "markdown",
   "id": "302f08e3-4254-4ea8-830d-4554a111b9c3",
   "metadata": {},
   "source": [
    "# 4. Model Development"
   ]
  },
  {
   "cell_type": "markdown",
   "id": "9abc874a-fc2d-45aa-8741-1d236b92d8e8",
   "metadata": {},
   "source": [
    "## Pre-processing"
   ]
  },
  {
   "cell_type": "code",
   "execution_count": 1,
   "id": "8c08431d-b949-4014-a460-e6faf11a7c6f",
   "metadata": {},
   "outputs": [],
   "source": [
    "# Libraries imported for this notebook.\n",
    "\n",
    "#import numpy as np\n",
    "import pandas as pd\n",
    "#import matplotlib.pyplot as plt\n",
    "#from sklearn.model_selection import TimeSeriesSplit, cross_val_score\n",
    "#from sklearn.linear_model import LinearRegression\n",
    "#from sklearn.ensemble import RandomForestRegressor\n",
    "#from statsmodels.tsa.arima.model import ARIMA\n",
    "#from sklearn.metrics import mean_squared_error\n",
    "#from sklearn.metrics import r2_score"
   ]
  },
  {
   "cell_type": "code",
   "execution_count": 2,
   "id": "3e5a805b-f12d-4cf2-b4f9-feb370fbf963",
   "metadata": {},
   "outputs": [],
   "source": [
    "# Read Lake_Fictitious_AquaRealTime_Data_Pre_Process_Train into a dataframe, formatted dates, and indexed dates.\n",
    "\n",
    "df = pd.read_excel('Lake_Fictitious_AquaRealTime_Data_Cleaned_Pre_Process_Train.xlsx', parse_dates=True, index_col=[0])"
   ]
  },
  {
   "cell_type": "code",
   "execution_count": 3,
   "id": "81de26e3-c2c4-44eb-8b5c-11d0736a2f9d",
   "metadata": {},
   "outputs": [
    {
     "data": {
      "text/plain": [
       "(53829, 135)"
      ]
     },
     "execution_count": 3,
     "metadata": {},
     "output_type": "execute_result"
    }
   ],
   "source": [
    "# Looked at shape\n",
    "\n",
    "df.shape"
   ]
  },
  {
   "cell_type": "code",
   "execution_count": 4,
   "id": "df8dbd26-6c71-42a7-b149-6044b5afa123",
   "metadata": {},
   "outputs": [],
   "source": [
    "# Defined Xs and ys.\n",
    "\n",
    "# Original features \n",
    "X_orig = df[[col for col in df.columns if '_' not in col and col != 'phycocyanin']].copy()\n",
    "\n",
    "# 1st order differenced versions of metrics\n",
    "X_diff = df.loc[:, df.columns.str.contains('1st_') & ~df.columns.str.contains('_lag_')]\n",
    "\n",
    "# 1st order differenced and lag 1 versions of metrics\n",
    "X_diff_lag_1 = df.loc[:, df.columns.str.contains('1st_') & (~df.columns.str.contains('_lag_') | df.columns.str.contains('_lag_1'))] \n",
    "\n",
    "# 1st order differenced and lag 1-3 versions of metrics\n",
    "X_diff_lag_3 = df.loc[:, df.columns.str.contains('1st_') & (~df.columns.str.contains('_lag_') | df.columns.str.contains('_lag_1') | df.columns.str.contains('_lag_2') | df.columns.str.contains('_lag_3'))]\n",
    "\n",
    "# 1st order differenced and lag 1-5 versions of metrics\n",
    "X_diff_lag_5 = df.loc[:, df.columns.str.contains('_')]\n",
    "\n",
    "# Target variable\n",
    "y = df['phycocyanin']"
   ]
  },
  {
   "cell_type": "code",
   "execution_count": null,
   "id": "c8e3fbba-ec46-4ea4-a70f-5b0e4f06bc79",
   "metadata": {},
   "outputs": [],
   "source": []
  }
 ],
 "metadata": {
  "kernelspec": {
   "display_name": "Python 3 (ipykernel)",
   "language": "python",
   "name": "python3"
  },
  "language_info": {
   "codemirror_mode": {
    "name": "ipython",
    "version": 3
   },
   "file_extension": ".py",
   "mimetype": "text/x-python",
   "name": "python",
   "nbconvert_exporter": "python",
   "pygments_lexer": "ipython3",
   "version": "3.11.5"
  }
 },
 "nbformat": 4,
 "nbformat_minor": 5
}
