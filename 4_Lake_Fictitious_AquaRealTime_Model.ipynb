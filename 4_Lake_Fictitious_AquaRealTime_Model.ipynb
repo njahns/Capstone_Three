{
 "cells": [
  {
   "cell_type": "markdown",
   "id": "302f08e3-4254-4ea8-830d-4554a111b9c3",
   "metadata": {},
   "source": [
    "# 4. Model Development"
   ]
  },
  {
   "cell_type": "markdown",
   "id": "9abc874a-fc2d-45aa-8741-1d236b92d8e8",
   "metadata": {},
   "source": [
    "## Pre-processing"
   ]
  },
  {
   "cell_type": "code",
   "execution_count": 1,
   "id": "8c08431d-b949-4014-a460-e6faf11a7c6f",
   "metadata": {},
   "outputs": [],
   "source": [
    "# Libraries imported for this notebook.\n",
    "\n",
    "import numpy as np\n",
    "import pandas as pd\n",
    "from sklearn.metrics import mean_squared_error\n",
    "from sklearn.linear_model import LinearRegression\n",
    "from sklearn.model_selection import train_test_split\n",
    "from sklearn.ensemble import RandomForestRegressor\n",
    "import lightgbm as lgb\n",
    "#import matplotlib.pyplot as plt\n",
    "#from sklearn.model_selection import TimeSeriesSplit, cross_val_score\n",
    "#from statsmodels.tsa.arima.model import ARIMA\n",
    "#from sklearn.metrics import r2_score"
   ]
  },
  {
   "cell_type": "code",
   "execution_count": 2,
   "id": "3e5a805b-f12d-4cf2-b4f9-feb370fbf963",
   "metadata": {},
   "outputs": [],
   "source": [
    "# Read Lake_Fictitious_AquaRealTime_Data_Pre_Process_Train into a dataframe, formatted dates, and indexed dates.\n",
    "\n",
    "df = pd.read_excel('Lake_Fictitious_AquaRealTime_Data_Cleaned_Pre_Process_Train.xlsx', parse_dates=True, index_col=[0])"
   ]
  },
  {
   "cell_type": "code",
   "execution_count": 3,
   "id": "81de26e3-c2c4-44eb-8b5c-11d0736a2f9d",
   "metadata": {},
   "outputs": [
    {
     "data": {
      "text/plain": [
       "(53829, 135)"
      ]
     },
     "execution_count": 3,
     "metadata": {},
     "output_type": "execute_result"
    }
   ],
   "source": [
    "# Looked at shape\n",
    "\n",
    "df.shape"
   ]
  },
  {
   "cell_type": "code",
   "execution_count": 4,
   "id": "df8dbd26-6c71-42a7-b149-6044b5afa123",
   "metadata": {},
   "outputs": [],
   "source": [
    "# Defined Xs and ys.\n",
    "\n",
    "# Original features \n",
    "X_orig = df[[col for col in df.columns if '_' not in col and col != 'phycocyanin']].copy()\n",
    "\n",
    "# 1st order differenced versions of metrics\n",
    "X_diff = df.loc[:, df.columns.str.contains('1st_') & ~df.columns.str.contains('_lag_')]\n",
    "\n",
    "# 1st order differenced and lag 1 versions of metrics\n",
    "X_diff_lag_1 = df.loc[:, df.columns.str.contains('1st_') & (~df.columns.str.contains('_lag_') | df.columns.str.contains('_lag_1'))] \n",
    "\n",
    "# 1st order differenced and lag 1-3 versions of metrics\n",
    "X_diff_lag_3 = df.loc[:, df.columns.str.contains('1st_') & (~df.columns.str.contains('_lag_') | df.columns.str.contains('_lag_1') | df.columns.str.contains('_lag_2') | df.columns.str.contains('_lag_3'))]\n",
    "\n",
    "# 1st order differenced and lag 1-5 versions of metrics\n",
    "X_diff_lag_5 = df.loc[:, df.columns.str.contains('_')]\n",
    "\n",
    "# Target variable\n",
    "y = df['phycocyanin']"
   ]
  },
  {
   "cell_type": "code",
   "execution_count": 5,
   "id": "49f32b1b-d63a-4636-afbd-fce4940dfbf2",
   "metadata": {},
   "outputs": [],
   "source": [
    "# Created an empty list to store RMSE values for all models.\n",
    "\n",
    "errors = []"
   ]
  },
  {
   "cell_type": "code",
   "execution_count": 7,
   "id": "b3d542cd-391a-40d0-bb8e-b26df50c1251",
   "metadata": {},
   "outputs": [],
   "source": [
    "# Created function to choose X and model.\n",
    "\n",
    "def fit_model(X, y, model, model_name):\n",
    "    # Split the data into training and testing sets\n",
    "    X_train, X_test, y_train, y_test = train_test_split(X, y, test_size=0.2, random_state=10)\n",
    "\n",
    "    # Fit the model on the training data\n",
    "    model.fit(X_train, y_train)\n",
    "\n",
    "    # Make predictions on the testing data\n",
    "    y_pred = model.predict(X_test)\n",
    "\n",
    "    # Calculate RMSE for the model\n",
    "    rmse = np.sqrt(mean_squared_error(y_test, y_pred))\n",
    "    print(f\"Root Mean Squared Error (RMSE) for {model_name}: {rmse}\")\n",
    "\n",
    "    # Append RMSE to 'errors' list\n",
    "    errors.append((model_name, rmse))"
   ]
  },
  {
   "cell_type": "markdown",
   "id": "040d6556-bc32-49ad-bcfc-a0312998f1bd",
   "metadata": {},
   "source": [
    "## Baseline Model "
   ]
  },
  {
   "cell_type": "code",
   "execution_count": 6,
   "id": "5a0b67d1-e297-48aa-bc9d-7cccc727fbf9",
   "metadata": {},
   "outputs": [
    {
     "name": "stdout",
     "output_type": "stream",
     "text": [
      "Root Mean Squared Error (RMSE) for the baseline model: 48.37207406889623\n"
     ]
    }
   ],
   "source": [
    "# Created a baseline model.\n",
    "\n",
    "# Calculated the predicted phycocyanin values for each half-hour interval\n",
    "predicted_phycocyanin = np.array(df['1st_phycocyanin_lag_1'])\n",
    "\n",
    "# Shifted the actual phycocyanin values by one interval to align with predictions\n",
    "actual_phycocyanin = np.array(df['1st_phycocyanin'])\n",
    "\n",
    "# Calculated RMSE for the baseline model\n",
    "rmse_base = np.sqrt(mean_squared_error(actual_phycocyanin, predicted_phycocyanin))\n",
    "print(\"Root Mean Squared Error (RMSE) for the baseline model:\", rmse_base)\n",
    "\n",
    "# Appended RMSE to 'errors' lists\n",
    "errors.append((\"Base\", rmse_base))"
   ]
  },
  {
   "cell_type": "markdown",
   "id": "108ce1d3-51aa-4a9a-8860-6804c61c4a17",
   "metadata": {},
   "source": [
    "## Linear Regression"
   ]
  },
  {
   "cell_type": "code",
   "execution_count": 9,
   "id": "41b3bfd5-66b8-4e58-a520-884cb89ae834",
   "metadata": {},
   "outputs": [
    {
     "name": "stdout",
     "output_type": "stream",
     "text": [
      "Root Mean Squared Error (RMSE) for Lin Reg Lag 0: 129.6250152422449\n"
     ]
    }
   ],
   "source": [
    "fit_model(X_diff, y, LinearRegression(), \"Lin Reg Lag 0\")"
   ]
  },
  {
   "cell_type": "code",
   "execution_count": 10,
   "id": "1c8b8ad9-3e2c-461c-81d8-368f2b4d8b6d",
   "metadata": {},
   "outputs": [
    {
     "name": "stdout",
     "output_type": "stream",
     "text": [
      "Root Mean Squared Error (RMSE) for Lin Reg Lag 1: 128.63595707419233\n"
     ]
    }
   ],
   "source": [
    "fit_model(X_diff_lag_1, y, LinearRegression(), \"Lin Reg Lag 1\")"
   ]
  },
  {
   "cell_type": "code",
   "execution_count": 11,
   "id": "21493b71-d871-4348-8e70-cdaded62b7e0",
   "metadata": {},
   "outputs": [
    {
     "name": "stdout",
     "output_type": "stream",
     "text": [
      "Root Mean Squared Error (RMSE) for Lin Reg Lag 3: 127.9857230388386\n"
     ]
    }
   ],
   "source": [
    "fit_model(X_diff_lag_3, y, LinearRegression(), \"Lin Reg Lag 3\")"
   ]
  },
  {
   "cell_type": "code",
   "execution_count": 12,
   "id": "c6198f8a-4ea7-4839-878a-026ad46451e5",
   "metadata": {},
   "outputs": [
    {
     "name": "stdout",
     "output_type": "stream",
     "text": [
      "Root Mean Squared Error (RMSE) for Lin Reg Lag 5: 127.5509724272718\n"
     ]
    }
   ],
   "source": [
    "fit_model(X_diff_lag_5, y, LinearRegression(), \"Lin Reg Lag 5\")"
   ]
  },
  {
   "cell_type": "markdown",
   "id": "fa7d1368-b5a0-43da-ae3c-bda18188d0d1",
   "metadata": {},
   "source": [
    "The error gets better as I add lags but still not as good as the baseline model!"
   ]
  },
  {
   "cell_type": "markdown",
   "id": "22539861-c75f-417a-a93f-ab91db7ec4df",
   "metadata": {},
   "source": [
    "## Random Forest"
   ]
  },
  {
   "cell_type": "code",
   "execution_count": 13,
   "id": "8ee3a9a6-c406-41bf-9941-666a50f3926b",
   "metadata": {},
   "outputs": [
    {
     "name": "stdout",
     "output_type": "stream",
     "text": [
      "Root Mean Squared Error (RMSE) for Lin Reg Lag 0: 87.62194097035005\n"
     ]
    }
   ],
   "source": [
    "fit_model(X_diff, y, RandomForestRegressor(), \"Lin Reg Lag 0\")"
   ]
  },
  {
   "cell_type": "code",
   "execution_count": 14,
   "id": "5a24af41-aa47-4f16-8be1-e7235196a4f1",
   "metadata": {},
   "outputs": [
    {
     "name": "stdout",
     "output_type": "stream",
     "text": [
      "Root Mean Squared Error (RMSE) for Lin Reg Lag 1: 77.57797893692965\n"
     ]
    }
   ],
   "source": [
    "fit_model(X_diff_lag_1, y, RandomForestRegressor(), \"Lin Reg Lag 1\")"
   ]
  },
  {
   "cell_type": "code",
   "execution_count": 15,
   "id": "5a42590e-e883-4a7a-b3ff-f60934f119c7",
   "metadata": {},
   "outputs": [
    {
     "name": "stdout",
     "output_type": "stream",
     "text": [
      "Root Mean Squared Error (RMSE) for Lin Reg Lag 3: 77.13867158706833\n"
     ]
    }
   ],
   "source": [
    "fit_model(X_diff_lag_3, y, RandomForestRegressor(), \"Lin Reg Lag 3\")"
   ]
  },
  {
   "cell_type": "code",
   "execution_count": 16,
   "id": "02b6345b-f81d-4918-979d-ce41ed945713",
   "metadata": {},
   "outputs": [
    {
     "name": "stdout",
     "output_type": "stream",
     "text": [
      "Root Mean Squared Error (RMSE) for Lin Reg Lag 5: 77.26525827108155\n"
     ]
    }
   ],
   "source": [
    "fit_model(X_diff_lag_5, y, RandomForestRegressor(), \"Lin Reg Lag 5\")"
   ]
  },
  {
   "cell_type": "markdown",
   "id": "8acfdb50-08fb-442f-ad04-090a77553f33",
   "metadata": {},
   "source": [
    "The errors are better than linear regression but still not as good as the baseline model!"
   ]
  },
  {
   "cell_type": "markdown",
   "id": "0baf08ad-35de-4672-91f5-595163b9a2a8",
   "metadata": {},
   "source": [
    "## LightGBM"
   ]
  },
  {
   "cell_type": "code",
   "execution_count": 17,
   "id": "b3d10ed6-55e4-41dd-80f3-b21e878e61c0",
   "metadata": {},
   "outputs": [
    {
     "ename": "NameError",
     "evalue": "name 'lgb' is not defined",
     "output_type": "error",
     "traceback": [
      "\u001b[0;31m---------------------------------------------------------------------------\u001b[0m",
      "\u001b[0;31mNameError\u001b[0m                                 Traceback (most recent call last)",
      "Cell \u001b[0;32mIn[17], line 1\u001b[0m\n\u001b[0;32m----> 1\u001b[0m fit_model(X_diff, y, lgb\u001b[38;5;241m.\u001b[39mLGBMRegressor(), \u001b[38;5;124m\"\u001b[39m\u001b[38;5;124mLin Reg Lag 0\u001b[39m\u001b[38;5;124m\"\u001b[39m)\n",
      "\u001b[0;31mNameError\u001b[0m: name 'lgb' is not defined"
     ]
    }
   ],
   "source": [
    "fit_model(X_diff, y, lgb.LGBMRegressor(), \"Lin Reg Lag 0\")"
   ]
  },
  {
   "cell_type": "code",
   "execution_count": null,
   "id": "13ff31e8-eac2-4155-b0cb-b4e98a9f9ecd",
   "metadata": {},
   "outputs": [],
   "source": []
  }
 ],
 "metadata": {
  "kernelspec": {
   "display_name": "Python 3 (ipykernel)",
   "language": "python",
   "name": "python3"
  },
  "language_info": {
   "codemirror_mode": {
    "name": "ipython",
    "version": 3
   },
   "file_extension": ".py",
   "mimetype": "text/x-python",
   "name": "python",
   "nbconvert_exporter": "python",
   "pygments_lexer": "ipython3",
   "version": "3.11.5"
  }
 },
 "nbformat": 4,
 "nbformat_minor": 5
}
