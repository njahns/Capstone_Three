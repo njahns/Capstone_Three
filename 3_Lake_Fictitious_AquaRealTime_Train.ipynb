{
 "cells": [
  {
   "cell_type": "markdown",
   "id": "6ea0eb65-a351-4bf6-b5f0-3a5cd6e36f7d",
   "metadata": {},
   "source": [
    "# 3. Capstone Pre-processing Training & Data Development"
   ]
  },
  {
   "cell_type": "code",
   "execution_count": 1,
   "id": "61138dea-9ddc-4b69-87f2-78c83d7357c3",
   "metadata": {},
   "outputs": [],
   "source": [
    "# Libraries imported for this notebook.\n",
    "\n",
    "import pandas as pd\n",
    "import matplotlib.pyplot as plt\n",
    "from matplotlib.dates import MonthLocator\n",
    "from statsmodels.tsa.stattools import kpss\n",
    "from statsmodels.tsa.stattools import adfuller\n",
    "from statsmodels.graphics.tsaplots import plot_pacf"
   ]
  },
  {
   "cell_type": "code",
   "execution_count": 2,
   "id": "e03f1b07-9935-443f-b8b4-3e6e724b5a27",
   "metadata": {},
   "outputs": [],
   "source": [
    "# Read Lake_Fictitious_AquaRealTime_Data_EDA into a dataframe, formatted dates, and indexed dates.\n",
    "\n",
    "df = pd.read_excel('Lake_Fictitious_AquaRealTime_Data_EDA.xlsx', parse_dates=True, index_col=[0])"
   ]
  },
  {
   "cell_type": "code",
   "execution_count": 3,
   "id": "002559f2-2ba8-49d2-8314-c55dac413d66",
   "metadata": {},
   "outputs": [
    {
     "data": {
      "text/plain": [
       "(53850, 5)"
      ]
     },
     "execution_count": 3,
     "metadata": {},
     "output_type": "execute_result"
    }
   ],
   "source": [
    "# Looked at shape\n",
    "\n",
    "df.shape"
   ]
  },
  {
   "cell_type": "markdown",
   "id": "0339f709-3d27-4d34-8a0d-316f2a799f3e",
   "metadata": {},
   "source": [
    "## Grouping Rows"
   ]
  },
  {
   "cell_type": "markdown",
   "id": "3251ab2b-651d-4944-9392-0472b497f257",
   "metadata": {},
   "source": [
    "I will now calculate the mean values of metrics over a one day period so I can use these data for my model. I'm dong this because I want to be able to forcast multiple days in advance and the data is currently by the half hour. Typically, time series data granularity, or unit, should be the same as the prediction unit, in this case, days. I'm doing this step now becasue this summerizing process can sometime make non-stationary data into stationary data."
   ]
  },
  {
   "cell_type": "code",
   "execution_count": 4,
   "id": "5eaf3212-d81d-47c6-ba9f-797fe6bddf10",
   "metadata": {},
   "outputs": [
    {
     "data": {
      "text/html": [
       "<div>\n",
       "<style scoped>\n",
       "    .dataframe tbody tr th:only-of-type {\n",
       "        vertical-align: middle;\n",
       "    }\n",
       "\n",
       "    .dataframe tbody tr th {\n",
       "        vertical-align: top;\n",
       "    }\n",
       "\n",
       "    .dataframe thead th {\n",
       "        text-align: right;\n",
       "    }\n",
       "</style>\n",
       "<table border=\"1\" class=\"dataframe\">\n",
       "  <thead>\n",
       "    <tr style=\"text-align: right;\">\n",
       "      <th></th>\n",
       "      <th>light</th>\n",
       "      <th>waterTemp</th>\n",
       "      <th>turbidity</th>\n",
       "      <th>phycocyanin</th>\n",
       "      <th>chlorA</th>\n",
       "    </tr>\n",
       "  </thead>\n",
       "  <tbody>\n",
       "    <tr>\n",
       "      <th>2021-01-27</th>\n",
       "      <td>178.484613</td>\n",
       "      <td>12.553846</td>\n",
       "      <td>22.200385</td>\n",
       "      <td>29.030577</td>\n",
       "      <td>406.140191</td>\n",
       "    </tr>\n",
       "    <tr>\n",
       "      <th>2021-01-28</th>\n",
       "      <td>133.795139</td>\n",
       "      <td>11.198958</td>\n",
       "      <td>23.549844</td>\n",
       "      <td>32.204582</td>\n",
       "      <td>510.559024</td>\n",
       "    </tr>\n",
       "    <tr>\n",
       "      <th>2021-01-29</th>\n",
       "      <td>118.664582</td>\n",
       "      <td>11.183108</td>\n",
       "      <td>23.722331</td>\n",
       "      <td>32.419998</td>\n",
       "      <td>484.313971</td>\n",
       "    </tr>\n",
       "    <tr>\n",
       "      <th>2021-01-30</th>\n",
       "      <td>140.362499</td>\n",
       "      <td>11.247973</td>\n",
       "      <td>23.770979</td>\n",
       "      <td>32.419998</td>\n",
       "      <td>456.055591</td>\n",
       "    </tr>\n",
       "    <tr>\n",
       "      <th>2021-01-31</th>\n",
       "      <td>134.059028</td>\n",
       "      <td>11.950169</td>\n",
       "      <td>22.993095</td>\n",
       "      <td>29.996562</td>\n",
       "      <td>422.760014</td>\n",
       "    </tr>\n",
       "    <tr>\n",
       "      <th>...</th>\n",
       "      <td>...</td>\n",
       "      <td>...</td>\n",
       "      <td>...</td>\n",
       "      <td>...</td>\n",
       "      <td>...</td>\n",
       "    </tr>\n",
       "    <tr>\n",
       "      <th>2024-02-19</th>\n",
       "      <td>148.206250</td>\n",
       "      <td>15.650000</td>\n",
       "      <td>2.264792</td>\n",
       "      <td>8.405208</td>\n",
       "      <td>85.007083</td>\n",
       "    </tr>\n",
       "    <tr>\n",
       "      <th>2024-02-20</th>\n",
       "      <td>101.362501</td>\n",
       "      <td>15.100000</td>\n",
       "      <td>2.563333</td>\n",
       "      <td>9.267292</td>\n",
       "      <td>89.794999</td>\n",
       "    </tr>\n",
       "    <tr>\n",
       "      <th>2024-02-21</th>\n",
       "      <td>172.979168</td>\n",
       "      <td>15.237500</td>\n",
       "      <td>2.962500</td>\n",
       "      <td>9.417917</td>\n",
       "      <td>92.104791</td>\n",
       "    </tr>\n",
       "    <tr>\n",
       "      <th>2024-02-22</th>\n",
       "      <td>246.960419</td>\n",
       "      <td>15.189583</td>\n",
       "      <td>3.552292</td>\n",
       "      <td>11.089583</td>\n",
       "      <td>103.188958</td>\n",
       "    </tr>\n",
       "    <tr>\n",
       "      <th>2024-02-23</th>\n",
       "      <td>23.862500</td>\n",
       "      <td>15.125000</td>\n",
       "      <td>2.365625</td>\n",
       "      <td>9.418125</td>\n",
       "      <td>93.778748</td>\n",
       "    </tr>\n",
       "  </tbody>\n",
       "</table>\n",
       "<p>1123 rows × 5 columns</p>\n",
       "</div>"
      ],
      "text/plain": [
       "                 light  waterTemp  turbidity  phycocyanin      chlorA\n",
       "2021-01-27  178.484613  12.553846  22.200385    29.030577  406.140191\n",
       "2021-01-28  133.795139  11.198958  23.549844    32.204582  510.559024\n",
       "2021-01-29  118.664582  11.183108  23.722331    32.419998  484.313971\n",
       "2021-01-30  140.362499  11.247973  23.770979    32.419998  456.055591\n",
       "2021-01-31  134.059028  11.950169  22.993095    29.996562  422.760014\n",
       "...                ...        ...        ...          ...         ...\n",
       "2024-02-19  148.206250  15.650000   2.264792     8.405208   85.007083\n",
       "2024-02-20  101.362501  15.100000   2.563333     9.267292   89.794999\n",
       "2024-02-21  172.979168  15.237500   2.962500     9.417917   92.104791\n",
       "2024-02-22  246.960419  15.189583   3.552292    11.089583  103.188958\n",
       "2024-02-23   23.862500  15.125000   2.365625     9.418125   93.778748\n",
       "\n",
       "[1123 rows x 5 columns]"
      ]
     },
     "execution_count": 4,
     "metadata": {},
     "output_type": "execute_result"
    }
   ],
   "source": [
    "# Grouped rows by day.\n",
    "\n",
    "# Create a copy of the original DataFrame\n",
    "mean_df = df.copy()\n",
    "\n",
    "# Extract date from timestamps and set as index\n",
    "mean_df.index = pd.to_datetime(mean_df.index).date\n",
    "\n",
    "# Group by date and calculate mean\n",
    "mean_df = mean_df.groupby(mean_df.index).mean()\n",
    "\n",
    "# Print the summary DataFrame\n",
    "mean_df"
   ]
  },
  {
   "cell_type": "code",
   "execution_count": 5,
   "id": "b6ab0ebf-5f3d-402d-9f17-1d211e530d95",
   "metadata": {},
   "outputs": [
    {
     "data": {
      "image/png": "[encoded data removed]",
      "text/plain": [
       "<Figure size 1000x1000 with 5 Axes>"
      ]
     },
     "metadata": {},
     "output_type": "display_data"
    }
   ],
   "source": [
    "# Plotted summerized row data.\n",
    "\n",
    "fig, axes = plt.subplots(nrows=len(mean_df.columns), ncols=1, figsize=(10, 2 * len(mean_df.columns)), sharex=True)\n",
    "for i, column in enumerate(mean_df.columns):\n",
    "    axes[i].plot(mean_df.index, mean_df[column], linewidth=0.25)\n",
    "    axes[i].set_ylabel(column)\n",
    "    axes[i].xaxis.set_major_locator(MonthLocator())\n",
    "    axes[i].tick_params(axis='x', rotation=90)\n",
    "plt.tight_layout()\n",
    "plt.show()"
   ]
  },
  {
   "cell_type": "markdown",
   "id": "0bdff2f7-518b-47a6-8298-89c853afdad4",
   "metadata": {},
   "source": [
    "Checked if summerizing made the data stationary."
   ]
  },
  {
   "cell_type": "code",
   "execution_count": 6,
   "id": "8aca1cac-f10e-4a49-ab65-5ea9c46e6aa5",
   "metadata": {},
   "outputs": [],
   "source": [
    "# Redefined function to run KPSS test.\n",
    "\n",
    "def kpss_test(timeseries, column_name):\n",
    "    print('Results of KPSS Test for column \"{}\":'.format(column_name))\n",
    "    kpsstest = kpss(timeseries, regression='c', nlags=\"auto\")\n",
    "    kpss_output = pd.Series(kpsstest[0:3], index=['Test Statistic', 'p-value', '#Lags Used'])\n",
    "    for key, value in kpsstest[3].items():\n",
    "        kpss_output['Critical Value (%s)' % key] = value\n",
    "    print(kpss_output)\n",
    "    print()"
   ]
  },
  {
   "cell_type": "code",
   "execution_count": 7,
   "id": "5d384e10-24e0-4a6b-882e-e70d0d31a249",
   "metadata": {},
   "outputs": [
    {
     "name": "stdout",
     "output_type": "stream",
     "text": [
      "Results of KPSS Test for column \"light\":\n",
      "Test Statistic            0.29502\n",
      "p-value                   0.10000\n",
      "#Lags Used               19.00000\n",
      "Critical Value (10%)      0.34700\n",
      "Critical Value (5%)       0.46300\n",
      "Critical Value (2.5%)     0.57400\n",
      "Critical Value (1%)       0.73900\n",
      "dtype: float64\n",
      "\n",
      "Results of KPSS Test for column \"waterTemp\":\n",
      "Test Statistic            0.639977\n",
      "p-value                   0.019002\n",
      "#Lags Used               20.000000\n",
      "Critical Value (10%)      0.347000\n",
      "Critical Value (5%)       0.463000\n",
      "Critical Value (2.5%)     0.574000\n",
      "Critical Value (1%)       0.739000\n",
      "dtype: float64\n",
      "\n",
      "Results of KPSS Test for column \"turbidity\":\n",
      "Test Statistic            0.910671\n",
      "p-value                   0.010000\n",
      "#Lags Used               20.000000\n",
      "Critical Value (10%)      0.347000\n",
      "Critical Value (5%)       0.463000\n",
      "Critical Value (2.5%)     0.574000\n",
      "Critical Value (1%)       0.739000\n",
      "dtype: float64\n",
      "\n",
      "Results of KPSS Test for column \"phycocyanin\":\n",
      "Test Statistic            0.835059\n",
      "p-value                   0.010000\n",
      "#Lags Used               20.000000\n",
      "Critical Value (10%)      0.347000\n",
      "Critical Value (5%)       0.463000\n",
      "Critical Value (2.5%)     0.574000\n",
      "Critical Value (1%)       0.739000\n",
      "dtype: float64\n",
      "\n",
      "Results of KPSS Test for column \"chlorA\":\n",
      "Test Statistic            0.769993\n",
      "p-value                   0.010000\n",
      "#Lags Used               20.000000\n",
      "Critical Value (10%)      0.347000\n",
      "Critical Value (5%)       0.463000\n",
      "Critical Value (2.5%)     0.574000\n",
      "Critical Value (1%)       0.739000\n",
      "dtype: float64\n",
      "\n"
     ]
    },
    {
     "name": "stderr",
     "output_type": "stream",
     "text": [
      "/var/folders/77/lhc9l51s19q1rxd2jv1wfxf40000gn/T/ipykernel_71697/651794571.py:5: InterpolationWarning: The test statistic is outside of the range of p-values available in the\n",
      "look-up table. The actual p-value is greater than the p-value returned.\n",
      "\n",
      "  kpsstest = kpss(timeseries, regression='c', nlags=\"auto\")\n",
      "/var/folders/77/lhc9l51s19q1rxd2jv1wfxf40000gn/T/ipykernel_71697/651794571.py:5: InterpolationWarning: The test statistic is outside of the range of p-values available in the\n",
      "look-up table. The actual p-value is smaller than the p-value returned.\n",
      "\n",
      "  kpsstest = kpss(timeseries, regression='c', nlags=\"auto\")\n",
      "/var/folders/77/lhc9l51s19q1rxd2jv1wfxf40000gn/T/ipykernel_71697/651794571.py:5: InterpolationWarning: The test statistic is outside of the range of p-values available in the\n",
      "look-up table. The actual p-value is smaller than the p-value returned.\n",
      "\n",
      "  kpsstest = kpss(timeseries, regression='c', nlags=\"auto\")\n",
      "/var/folders/77/lhc9l51s19q1rxd2jv1wfxf40000gn/T/ipykernel_71697/651794571.py:5: InterpolationWarning: The test statistic is outside of the range of p-values available in the\n",
      "look-up table. The actual p-value is smaller than the p-value returned.\n",
      "\n",
      "  kpsstest = kpss(timeseries, regression='c', nlags=\"auto\")\n"
     ]
    }
   ],
   "source": [
    "# Ran KPSS for first-order differenced metrics.\n",
    "\n",
    "for column in mean_df.columns:\n",
    "    kpss_test(mean_df[column], column)"
   ]
  },
  {
   "cell_type": "markdown",
   "id": "2d1b0c27-8270-4459-8b93-ee64029aaa53",
   "metadata": {},
   "source": [
    "The p-value for 'light' is >0.10 which is more than the significance level of 0.05. Therefore, I fail to reject the null hypothesis of stationarity for this metric. It is likely stationary according to the KPSS test. 'waterTemp', 'turbidity', 'phycocyanin', 'chlorA', however, all have p-value <0.01, which idicates that they are non-stationary."
   ]
  },
  {
   "cell_type": "code",
   "execution_count": 8,
   "id": "f3cc2ed2-5df5-49d5-833b-f5215d861e62",
   "metadata": {},
   "outputs": [],
   "source": [
    "# Redefined function to run ADF test.\n",
    "\n",
    "def adf_test(timeseries, column_name):\n",
    "    print('Results of ADF Test for column \"{}\":'.format(column_name))\n",
    "    adftest = adfuller(timeseries, autolag='AIC')\n",
    "    adf_output = pd.Series(adftest[0:4], index=['Test Statistic', 'p-value', '#Lags Used', 'Number of Observations Used'])\n",
    "    for key, value in adftest[4].items():\n",
    "        adf_output['Critical Value (%s)' % key] = value\n",
    "    print(adf_output)\n",
    "    print()"
   ]
  },
  {
   "cell_type": "code",
   "execution_count": 9,
   "id": "6ccc83f9-5717-4f2a-96b0-113675a98c89",
   "metadata": {},
   "outputs": [
    {
     "name": "stdout",
     "output_type": "stream",
     "text": [
      "Results of ADF Test for column \"light\":\n",
      "Test Statistic                   -4.816401\n",
      "p-value                           0.000051\n",
      "#Lags Used                        4.000000\n",
      "Number of Observations Used    1118.000000\n",
      "Critical Value (1%)              -3.436213\n",
      "Critical Value (5%)              -2.864129\n",
      "Critical Value (10%)             -2.568148\n",
      "dtype: float64\n",
      "\n",
      "Results of ADF Test for column \"waterTemp\":\n",
      "Test Statistic                   -2.262546\n",
      "p-value                           0.184332\n",
      "#Lags Used                        2.000000\n",
      "Number of Observations Used    1120.000000\n",
      "Critical Value (1%)              -3.436202\n",
      "Critical Value (5%)              -2.864124\n",
      "Critical Value (10%)             -2.568146\n",
      "dtype: float64\n",
      "\n",
      "Results of ADF Test for column \"turbidity\":\n",
      "Test Statistic                   -2.764986\n",
      "p-value                           0.063452\n",
      "#Lags Used                        9.000000\n",
      "Number of Observations Used    1113.000000\n",
      "Critical Value (1%)              -3.436239\n",
      "Critical Value (5%)              -2.864140\n",
      "Critical Value (10%)             -2.568154\n",
      "dtype: float64\n",
      "\n",
      "Results of ADF Test for column \"phycocyanin\":\n",
      "Test Statistic                   -3.170113\n",
      "p-value                           0.021781\n",
      "#Lags Used                        5.000000\n",
      "Number of Observations Used    1117.000000\n",
      "Critical Value (1%)              -3.436218\n",
      "Critical Value (5%)              -2.864131\n",
      "Critical Value (10%)             -2.568150\n",
      "dtype: float64\n",
      "\n",
      "Results of ADF Test for column \"chlorA\":\n",
      "Test Statistic                   -2.172113\n",
      "p-value                           0.216522\n",
      "#Lags Used                        3.000000\n",
      "Number of Observations Used    1119.000000\n",
      "Critical Value (1%)              -3.436207\n",
      "Critical Value (5%)              -2.864126\n",
      "Critical Value (10%)             -2.568147\n",
      "dtype: float64\n",
      "\n"
     ]
    }
   ],
   "source": [
    "# Ran ADF for first-order differenced metrics.\n",
    "\n",
    "for column in mean_df.columns:\n",
    "    adf_test(mean_df[column], column)"
   ]
  },
  {
   "cell_type": "markdown",
   "id": "a345ba88-1a9c-4535-be25-500d4451a5bf",
   "metadata": {},
   "source": [
    "The p-values for 'light' and 'phycocyanin' are less <0.05, indicating strong evidence against the presence of a unit root. Thus, I reject the null hypothesis for these variables, suggesting that they are likely stationary according to the ADF test. 'waterTemp', 'turbidity', 'chlorA', however, all have p-value >0.05, which idicates that they are non-stationary."
   ]
  },
  {
   "cell_type": "markdown",
   "id": "e3f517d7-624b-4182-acb6-d5e33e6a62b9",
   "metadata": {},
   "source": [
    "Together, the KPSS and ADF tests indicate that 'light' is stationary and 'waterTemp', 'turbidity', and 'chlorA' metrics are non-stationary. As for 'phycocyanin', the KPSS test indicates that the metric is non-stationary while the ADF test indicates that it is stationary. This apparent contradiction indicates that 'phycocyanin' is difference stationary. As a result, all metrics but 'light' will need to be detrended."
   ]
  },
  {
   "cell_type": "markdown",
   "id": "7b43e13f-65da-4a48-8f58-44a9974ea81e",
   "metadata": {},
   "source": [
    "## Feature Engineering"
   ]
  },
  {
   "cell_type": "markdown",
   "id": "b6ec4ed7-7162-4545-bc7f-d0b7dccfa12c",
   "metadata": {},
   "source": [
    "### Temporal"
   ]
  },
  {
   "cell_type": "markdown",
   "id": "8d2527ae-0049-4e3f-993f-a51361dbd45a",
   "metadata": {},
   "source": [
    "#### Differencing"
   ]
  },
  {
   "cell_type": "markdown",
   "id": "c0669141-17b9-421e-9d1a-d09e8b639069",
   "metadata": {},
   "source": [
    "'waterTemp', 'turbidity', 'phycocyanin', and 'chlorA' need to be detrended so I performed differencing to compute the differences between consecutive data points. This technique is often performed for time series models and can transform a non-stationary time series into a stationary one and remove trends and seasonality. Overall, differencing can be beneficial because it stabilizes the mean and variance of the data, making it easier to identify underlying patterns and relationships."
   ]
  },
  {
   "cell_type": "code",
   "execution_count": 10,
   "id": "396a4b4b-fe95-484f-b3dc-d1adfbe612ef",
   "metadata": {},
   "outputs": [],
   "source": [
    "# Added first-order differenced features to mean_df for all metric but light.\n",
    "\n",
    "# Got the columns to perform differencing on (excluding 'light')\n",
    "columns_to_difference = mean_df.columns.drop('light')\n",
    "\n",
    "# Performed first-order differencing on specified columns\n",
    "first_differences = mean_df[columns_to_difference].diff().add_prefix('d_')\n",
    "\n",
    "# Concatenated the results with the original DataFrame\n",
    "mean_df = pd.concat([mean_df, first_differences], axis=1).dropna()"
   ]
  },
  {
   "cell_type": "code",
   "execution_count": 11,
   "id": "b63c4d6c-2991-45cd-8bf6-56c433523aa1",
   "metadata": {},
   "outputs": [
    {
     "data": {
      "text/html": [
       "<div>\n",
       "<style scoped>\n",
       "    .dataframe tbody tr th:only-of-type {\n",
       "        vertical-align: middle;\n",
       "    }\n",
       "\n",
       "    .dataframe tbody tr th {\n",
       "        vertical-align: top;\n",
       "    }\n",
       "\n",
       "    .dataframe thead th {\n",
       "        text-align: right;\n",
       "    }\n",
       "</style>\n",
       "<table border=\"1\" class=\"dataframe\">\n",
       "  <thead>\n",
       "    <tr style=\"text-align: right;\">\n",
       "      <th></th>\n",
       "      <th>phycocyanin</th>\n",
       "      <th>d_phycocyanin</th>\n",
       "    </tr>\n",
       "  </thead>\n",
       "  <tbody>\n",
       "    <tr>\n",
       "      <th>2021-01-28</th>\n",
       "      <td>32.204582</td>\n",
       "      <td>3.174005</td>\n",
       "    </tr>\n",
       "    <tr>\n",
       "      <th>2021-01-29</th>\n",
       "      <td>32.419998</td>\n",
       "      <td>0.215416</td>\n",
       "    </tr>\n",
       "    <tr>\n",
       "      <th>2021-01-30</th>\n",
       "      <td>32.419998</td>\n",
       "      <td>0.000000</td>\n",
       "    </tr>\n",
       "    <tr>\n",
       "      <th>2021-01-31</th>\n",
       "      <td>29.996562</td>\n",
       "      <td>-2.423436</td>\n",
       "    </tr>\n",
       "    <tr>\n",
       "      <th>2021-02-01</th>\n",
       "      <td>28.018646</td>\n",
       "      <td>-1.977916</td>\n",
       "    </tr>\n",
       "    <tr>\n",
       "      <th>2021-02-02</th>\n",
       "      <td>20.748334</td>\n",
       "      <td>-7.270312</td>\n",
       "    </tr>\n",
       "    <tr>\n",
       "      <th>2021-02-03</th>\n",
       "      <td>18.696979</td>\n",
       "      <td>-2.051354</td>\n",
       "    </tr>\n",
       "    <tr>\n",
       "      <th>2021-02-04</th>\n",
       "      <td>16.626042</td>\n",
       "      <td>-2.070937</td>\n",
       "    </tr>\n",
       "    <tr>\n",
       "      <th>2021-02-05</th>\n",
       "      <td>15.093646</td>\n",
       "      <td>-1.532396</td>\n",
       "    </tr>\n",
       "    <tr>\n",
       "      <th>2021-02-06</th>\n",
       "      <td>13.203854</td>\n",
       "      <td>-1.889792</td>\n",
       "    </tr>\n",
       "  </tbody>\n",
       "</table>\n",
       "</div>"
      ],
      "text/plain": [
       "            phycocyanin  d_phycocyanin\n",
       "2021-01-28    32.204582       3.174005\n",
       "2021-01-29    32.419998       0.215416\n",
       "2021-01-30    32.419998       0.000000\n",
       "2021-01-31    29.996562      -2.423436\n",
       "2021-02-01    28.018646      -1.977916\n",
       "2021-02-02    20.748334      -7.270312\n",
       "2021-02-03    18.696979      -2.051354\n",
       "2021-02-04    16.626042      -2.070937\n",
       "2021-02-05    15.093646      -1.532396\n",
       "2021-02-06    13.203854      -1.889792"
      ]
     },
     "execution_count": 11,
     "metadata": {},
     "output_type": "execute_result"
    }
   ],
   "source": [
    "# Looked at just 'phycocyanin' to check differencing calculations.\n",
    "\n",
    "selected_columns = ['phycocyanin', 'd_phycocyanin']\n",
    "new_df = mean_df.loc[:, selected_columns]\n",
    "new_df.head(10)"
   ]
  },
  {
   "cell_type": "markdown",
   "id": "ae8fa1e7-02ba-4420-ab8c-6e6baf4c957e",
   "metadata": {},
   "source": [
    "In future steps, I will be using the differenced data and light in models. For ease of selecting features, I will copy the 'light' column and add 'd_' to the beginning."
   ]
  },
  {
   "cell_type": "code",
   "execution_count": 12,
   "id": "0a5bbd21-bb49-4fe9-a0e3-b898de7dc8ec",
   "metadata": {},
   "outputs": [],
   "source": [
    "# Duplicated the 'light' column and add 'd_' to the beginning.\n",
    "\n",
    "mean_df['d_light'] = mean_df['light']"
   ]
  },
  {
   "cell_type": "code",
   "execution_count": 13,
   "id": "a9d89479-9a41-46ee-afc0-a54af06805aa",
   "metadata": {},
   "outputs": [
    {
     "name": "stdout",
     "output_type": "stream",
     "text": [
      "light\n",
      "waterTemp\n",
      "turbidity\n",
      "phycocyanin\n",
      "chlorA\n",
      "d_waterTemp\n",
      "d_turbidity\n",
      "d_phycocyanin\n",
      "d_chlorA\n",
      "d_light\n"
     ]
    }
   ],
   "source": [
    "# Checked feature names\n",
    "\n",
    "for column_title in mean_df.columns:\n",
    "    print(column_title)"
   ]
  },
  {
   "cell_type": "markdown",
   "id": "9e9eb9fa-f532-46d5-9719-3ca9a71062ce",
   "metadata": {},
   "source": [
    "Now I need to run the KPSS and ADF tests on the differenced metrics to see if my detrending was effective."
   ]
  },
  {
   "cell_type": "code",
   "execution_count": 14,
   "id": "a17e249a-aacc-492b-b358-f3397ead4d59",
   "metadata": {},
   "outputs": [
    {
     "name": "stdout",
     "output_type": "stream",
     "text": [
      "Results of KPSS Test for column \"d_waterTemp\":\n",
      "Test Statistic           0.121297\n",
      "p-value                  0.100000\n",
      "#Lags Used               7.000000\n",
      "Critical Value (10%)     0.347000\n",
      "Critical Value (5%)      0.463000\n",
      "Critical Value (2.5%)    0.574000\n",
      "Critical Value (1%)      0.739000\n",
      "dtype: float64\n",
      "\n",
      "Results of KPSS Test for column \"d_turbidity\":\n",
      "Test Statistic           0.046594\n",
      "p-value                  0.100000\n",
      "#Lags Used               6.000000\n",
      "Critical Value (10%)     0.347000\n",
      "Critical Value (5%)      0.463000\n",
      "Critical Value (2.5%)    0.574000\n",
      "Critical Value (1%)      0.739000\n",
      "dtype: float64\n",
      "\n",
      "Results of KPSS Test for column \"d_phycocyanin\":\n",
      "Test Statistic            0.035789\n",
      "p-value                   0.100000\n",
      "#Lags Used               17.000000\n",
      "Critical Value (10%)      0.347000\n",
      "Critical Value (5%)       0.463000\n",
      "Critical Value (2.5%)     0.574000\n",
      "Critical Value (1%)       0.739000\n",
      "dtype: float64\n",
      "\n",
      "Results of KPSS Test for column \"d_chlorA\":\n",
      "Test Statistic           0.071411\n",
      "p-value                  0.100000\n",
      "#Lags Used               2.000000\n",
      "Critical Value (10%)     0.347000\n",
      "Critical Value (5%)      0.463000\n",
      "Critical Value (2.5%)    0.574000\n",
      "Critical Value (1%)      0.739000\n",
      "dtype: float64\n",
      "\n",
      "Results of KPSS Test for column \"d_light\":\n",
      "Test Statistic            0.295347\n",
      "p-value                   0.100000\n",
      "#Lags Used               19.000000\n",
      "Critical Value (10%)      0.347000\n",
      "Critical Value (5%)       0.463000\n",
      "Critical Value (2.5%)     0.574000\n",
      "Critical Value (1%)       0.739000\n",
      "dtype: float64\n",
      "\n"
     ]
    },
    {
     "name": "stderr",
     "output_type": "stream",
     "text": [
      "/var/folders/77/lhc9l51s19q1rxd2jv1wfxf40000gn/T/ipykernel_71697/651794571.py:5: InterpolationWarning: The test statistic is outside of the range of p-values available in the\n",
      "look-up table. The actual p-value is greater than the p-value returned.\n",
      "\n",
      "  kpsstest = kpss(timeseries, regression='c', nlags=\"auto\")\n",
      "/var/folders/77/lhc9l51s19q1rxd2jv1wfxf40000gn/T/ipykernel_71697/651794571.py:5: InterpolationWarning: The test statistic is outside of the range of p-values available in the\n",
      "look-up table. The actual p-value is greater than the p-value returned.\n",
      "\n",
      "  kpsstest = kpss(timeseries, regression='c', nlags=\"auto\")\n",
      "/var/folders/77/lhc9l51s19q1rxd2jv1wfxf40000gn/T/ipykernel_71697/651794571.py:5: InterpolationWarning: The test statistic is outside of the range of p-values available in the\n",
      "look-up table. The actual p-value is greater than the p-value returned.\n",
      "\n",
      "  kpsstest = kpss(timeseries, regression='c', nlags=\"auto\")\n",
      "/var/folders/77/lhc9l51s19q1rxd2jv1wfxf40000gn/T/ipykernel_71697/651794571.py:5: InterpolationWarning: The test statistic is outside of the range of p-values available in the\n",
      "look-up table. The actual p-value is greater than the p-value returned.\n",
      "\n",
      "  kpsstest = kpss(timeseries, regression='c', nlags=\"auto\")\n",
      "/var/folders/77/lhc9l51s19q1rxd2jv1wfxf40000gn/T/ipykernel_71697/651794571.py:5: InterpolationWarning: The test statistic is outside of the range of p-values available in the\n",
      "look-up table. The actual p-value is greater than the p-value returned.\n",
      "\n",
      "  kpsstest = kpss(timeseries, regression='c', nlags=\"auto\")\n"
     ]
    }
   ],
   "source": [
    "# Ran KPSS for first-order differenced metrics.\n",
    "\n",
    "for column in mean_df.columns:\n",
    "    if 'd_' in column:\n",
    "        kpss_test(mean_df[column], column)"
   ]
  },
  {
   "cell_type": "markdown",
   "id": "9da96669-f4ca-46e5-a90e-447c32d4c340",
   "metadata": {},
   "source": [
    "The p-value for all metrics are >0.10 which is more than the significance level of 0.05. Therefore, I fail to reject the null hypothesis of stationarity for all metrics. They are all likely stationary according to the KPSS test."
   ]
  },
  {
   "cell_type": "code",
   "execution_count": 15,
   "id": "73053465-585d-4c53-83c0-0f54c300d3d7",
   "metadata": {},
   "outputs": [
    {
     "name": "stdout",
     "output_type": "stream",
     "text": [
      "Results of ADF Test for column \"d_waterTemp\":\n",
      "Test Statistic                  -22.787605\n",
      "p-value                           0.000000\n",
      "#Lags Used                        1.000000\n",
      "Number of Observations Used    1120.000000\n",
      "Critical Value (1%)              -3.436202\n",
      "Critical Value (5%)              -2.864124\n",
      "Critical Value (10%)             -2.568146\n",
      "dtype: float64\n",
      "\n",
      "Results of ADF Test for column \"d_turbidity\":\n",
      "Test Statistic                -1.042064e+01\n",
      "p-value                        1.708266e-18\n",
      "#Lags Used                     8.000000e+00\n",
      "Number of Observations Used    1.113000e+03\n",
      "Critical Value (1%)           -3.436239e+00\n",
      "Critical Value (5%)           -2.864140e+00\n",
      "Critical Value (10%)          -2.568154e+00\n",
      "dtype: float64\n",
      "\n",
      "Results of ADF Test for column \"d_phycocyanin\":\n",
      "Test Statistic                -1.560380e+01\n",
      "p-value                        1.815301e-28\n",
      "#Lags Used                     4.000000e+00\n",
      "Number of Observations Used    1.117000e+03\n",
      "Critical Value (1%)           -3.436218e+00\n",
      "Critical Value (5%)           -2.864131e+00\n",
      "Critical Value (10%)          -2.568150e+00\n",
      "dtype: float64\n",
      "\n",
      "Results of ADF Test for column \"d_chlorA\":\n",
      "Test Statistic                -1.828056e+01\n",
      "p-value                        2.308851e-30\n",
      "#Lags Used                     2.000000e+00\n",
      "Number of Observations Used    1.119000e+03\n",
      "Critical Value (1%)           -3.436207e+00\n",
      "Critical Value (5%)           -2.864126e+00\n",
      "Critical Value (10%)          -2.568147e+00\n",
      "dtype: float64\n",
      "\n",
      "Results of ADF Test for column \"d_light\":\n",
      "Test Statistic                   -4.834115\n",
      "p-value                           0.000047\n",
      "#Lags Used                        4.000000\n",
      "Number of Observations Used    1117.000000\n",
      "Critical Value (1%)              -3.436218\n",
      "Critical Value (5%)              -2.864131\n",
      "Critical Value (10%)             -2.568150\n",
      "dtype: float64\n",
      "\n"
     ]
    }
   ],
   "source": [
    "# Ran ADF for first-order differenced metrics.\n",
    "\n",
    "for column in mean_df.columns:\n",
    "    if 'd_' in column:\n",
    "        adf_test(mean_df[column], column)"
   ]
  },
  {
   "cell_type": "markdown",
   "id": "47181af4-06ca-4ea1-aa7b-2a11630e0ab6",
   "metadata": {},
   "source": [
    "The p-values for all metrics are less than 0.05, indicating strong evidence against the presence of a unit root. Thus, I reject the null hypothesis for these variables, suggesting that they are likely stationary according to the ADF test."
   ]
  },
  {
   "cell_type": "markdown",
   "id": "9720510d-39c2-4aa7-ab95-82a0b6bf6aa4",
   "metadata": {},
   "source": [
    "Together, the KPSS and ADF tests indicate that all first-order differenced metrics and 'light' are stationary. I do not need to perform second-order differencing."
   ]
  },
  {
   "cell_type": "markdown",
   "id": "4d47251f-b15e-4b55-b495-9075dd6dab6a",
   "metadata": {},
   "source": [
    "#### Lag Features"
   ]
  },
  {
   "cell_type": "markdown",
   "id": "aae0f0a9-2523-4933-9207-7ea40b14555c",
   "metadata": {},
   "source": [
    "I created lagged versions of the differenced metrics of 1 through 20 time periods (days). Blue-green algae usually takes a few days to grow after stimultion so this should be enough lags. However, sometimes it takes longer than this. I can increase the number later if needed."
   ]
  },
  {
   "cell_type": "code",
   "execution_count": 16,
   "id": "68b227e3-6fc4-4db4-945f-bd5d44c667d6",
   "metadata": {},
   "outputs": [],
   "source": [
    "# Lagged differenced features by 1 through 20 time periods.\n",
    "\n",
    "lagged_columns = []\n",
    "\n",
    "lagged_df = pd.DataFrame()\n",
    "\n",
    "for lag in range(1, 21):\n",
    "    relevant_columns = [col for col in mean_df.columns if 'd_' in col]\n",
    "    lagged_columns.extend([f'{var}_lag_{lag:02d}' for var in relevant_columns])\n",
    "    lagged_data = {f\"{var}_lag_{lag:02d}\": mean_df[var].shift(lag) for var in relevant_columns}\n",
    "    lagged_df = pd.concat([lagged_df, pd.DataFrame(lagged_data)], axis=1)\n",
    "\n",
    "mean_df = pd.concat([mean_df, lagged_df], axis=1)"
   ]
  },
  {
   "cell_type": "code",
   "execution_count": 17,
   "id": "1804d23d-1568-4e89-9f6a-20e348984647",
   "metadata": {},
   "outputs": [],
   "source": [
    "# Dropped rows containng NaN as a result of lagged features.\n",
    "\n",
    "mean_df.dropna(inplace=True)"
   ]
  },
  {
   "cell_type": "code",
   "execution_count": 18,
   "id": "a14495d2-b812-4a24-8b88-f542b074db00",
   "metadata": {},
   "outputs": [],
   "source": [
    "# Added 'lag_0' to names for clearity.\n",
    "\n",
    "mean_df.rename(columns={col: col + '_lag_00' for col in mean_df.columns[5:10]}, inplace=True)"
   ]
  },
  {
   "cell_type": "code",
   "execution_count": 19,
   "id": "f70d9b89-bfd0-4c3a-934b-b290a153cc18",
   "metadata": {},
   "outputs": [],
   "source": [
    "# Added time unit features.\n",
    "\n",
    "mean_df.index = pd.to_datetime(mean_df.index)\n",
    "mean_df['day'] = mean_df.index.day\n",
    "mean_df['month'] = mean_df.index.month\n",
    "mean_df['year'] = mean_df.index.year"
   ]
  },
  {
   "cell_type": "code",
   "execution_count": 20,
   "id": "9e8b6c20-8a54-43be-a6be-0d21ec3d2621",
   "metadata": {},
   "outputs": [
    {
     "name": "stdout",
     "output_type": "stream",
     "text": [
      "light\n",
      "waterTemp\n",
      "turbidity\n",
      "phycocyanin\n",
      "chlorA\n",
      "d_waterTemp_lag_00\n",
      "d_turbidity_lag_00\n",
      "d_phycocyanin_lag_00\n",
      "d_chlorA_lag_00\n",
      "d_light_lag_00\n",
      "d_waterTemp_lag_01\n",
      "d_turbidity_lag_01\n",
      "d_phycocyanin_lag_01\n",
      "d_chlorA_lag_01\n",
      "d_light_lag_01\n",
      "d_waterTemp_lag_02\n",
      "d_turbidity_lag_02\n",
      "d_phycocyanin_lag_02\n",
      "d_chlorA_lag_02\n",
      "d_light_lag_02\n",
      "d_waterTemp_lag_03\n",
      "d_turbidity_lag_03\n",
      "d_phycocyanin_lag_03\n",
      "d_chlorA_lag_03\n",
      "d_light_lag_03\n",
      "d_waterTemp_lag_04\n",
      "d_turbidity_lag_04\n",
      "d_phycocyanin_lag_04\n",
      "d_chlorA_lag_04\n",
      "d_light_lag_04\n",
      "d_waterTemp_lag_05\n",
      "d_turbidity_lag_05\n",
      "d_phycocyanin_lag_05\n",
      "d_chlorA_lag_05\n",
      "d_light_lag_05\n",
      "d_waterTemp_lag_06\n",
      "d_turbidity_lag_06\n",
      "d_phycocyanin_lag_06\n",
      "d_chlorA_lag_06\n",
      "d_light_lag_06\n",
      "d_waterTemp_lag_07\n",
      "d_turbidity_lag_07\n",
      "d_phycocyanin_lag_07\n",
      "d_chlorA_lag_07\n",
      "d_light_lag_07\n",
      "d_waterTemp_lag_08\n",
      "d_turbidity_lag_08\n",
      "d_phycocyanin_lag_08\n",
      "d_chlorA_lag_08\n",
      "d_light_lag_08\n",
      "d_waterTemp_lag_09\n",
      "d_turbidity_lag_09\n",
      "d_phycocyanin_lag_09\n",
      "d_chlorA_lag_09\n",
      "d_light_lag_09\n",
      "d_waterTemp_lag_10\n",
      "d_turbidity_lag_10\n",
      "d_phycocyanin_lag_10\n",
      "d_chlorA_lag_10\n",
      "d_light_lag_10\n",
      "d_waterTemp_lag_11\n",
      "d_turbidity_lag_11\n",
      "d_phycocyanin_lag_11\n",
      "d_chlorA_lag_11\n",
      "d_light_lag_11\n",
      "d_waterTemp_lag_12\n",
      "d_turbidity_lag_12\n",
      "d_phycocyanin_lag_12\n",
      "d_chlorA_lag_12\n",
      "d_light_lag_12\n",
      "d_waterTemp_lag_13\n",
      "d_turbidity_lag_13\n",
      "d_phycocyanin_lag_13\n",
      "d_chlorA_lag_13\n",
      "d_light_lag_13\n",
      "d_waterTemp_lag_14\n",
      "d_turbidity_lag_14\n",
      "d_phycocyanin_lag_14\n",
      "d_chlorA_lag_14\n",
      "d_light_lag_14\n",
      "d_waterTemp_lag_15\n",
      "d_turbidity_lag_15\n",
      "d_phycocyanin_lag_15\n",
      "d_chlorA_lag_15\n",
      "d_light_lag_15\n",
      "d_waterTemp_lag_16\n",
      "d_turbidity_lag_16\n",
      "d_phycocyanin_lag_16\n",
      "d_chlorA_lag_16\n",
      "d_light_lag_16\n",
      "d_waterTemp_lag_17\n",
      "d_turbidity_lag_17\n",
      "d_phycocyanin_lag_17\n",
      "d_chlorA_lag_17\n",
      "d_light_lag_17\n",
      "d_waterTemp_lag_18\n",
      "d_turbidity_lag_18\n",
      "d_phycocyanin_lag_18\n",
      "d_chlorA_lag_18\n",
      "d_light_lag_18\n",
      "d_waterTemp_lag_19\n",
      "d_turbidity_lag_19\n",
      "d_phycocyanin_lag_19\n",
      "d_chlorA_lag_19\n",
      "d_light_lag_19\n",
      "d_waterTemp_lag_20\n",
      "d_turbidity_lag_20\n",
      "d_phycocyanin_lag_20\n",
      "d_chlorA_lag_20\n",
      "d_light_lag_20\n",
      "day\n",
      "month\n",
      "year\n"
     ]
    }
   ],
   "source": [
    "# Printed list of column titles to check results of lagging.\n",
    "\n",
    "for column_title in mean_df.columns:\n",
    "    print(column_title)"
   ]
  },
  {
   "cell_type": "markdown",
   "id": "0d93a646-ea29-4ee6-877a-8ba3e5d76615",
   "metadata": {},
   "source": [
    "# Data Save"
   ]
  },
  {
   "cell_type": "code",
   "execution_count": 21,
   "id": "463855a8-ee45-4eb7-a376-583497522acd",
   "metadata": {},
   "outputs": [],
   "source": [
    "# Saved dataframe.\n",
    "\n",
    "mean_df.to_excel('Lake_Fictitious_AquaRealTime_Data_Cleaned_Pre_Process_Train.xlsx', index=True)"
   ]
  }
 ],
 "metadata": {
  "kernelspec": {
   "display_name": "Python 3 (ipykernel)",
   "language": "python",
   "name": "python3"
  },
  "language_info": {
   "codemirror_mode": {
    "name": "ipython",
    "version": 3
   },
   "file_extension": ".py",
   "mimetype": "text/x-python",
   "name": "python",
   "nbconvert_exporter": "python",
   "pygments_lexer": "ipython3",
   "version": "3.11.5"
  }
 },
 "nbformat": 4,
 "nbformat_minor": 5
}
